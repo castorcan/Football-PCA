{
 "cells": [
  {
   "cell_type": "markdown",
   "metadata": {
    "collapsed": true
   },
   "source": [
    "# FOOTBALL DATA"
   ]
  },
  {
   "cell_type": "markdown",
   "metadata": {},
   "source": [
    "This dataset is from 'Methods of Multivariate Analysis' by 'Alvin C. Rencher'. The data set include 6 variables of human head measure (horizental and verticales measure). The 3 groups are known and are : Group 1 'Non-football player', 'College football players' and 'professional football players'. We first perform a discriminnat analysis usong PCA(Principal Components Analysis) then we evaluate the estimation errors using some statistical tests like Mahamnbois distance, plug-in estimators and cross-validation methods."
   ]
  },
  {
   "cell_type": "code",
   "execution_count": 1,
   "metadata": {
    "collapsed": true
   },
   "outputs": [],
   "source": [
    "import numpy as np\n",
    "myarray = np.fromfile('T8_3_FOOTBALL.dat',dtype=float)"
   ]
  },
  {
   "cell_type": "code",
   "execution_count": 5,
   "metadata": {
    "collapsed": false
   },
   "outputs": [
    {
     "data": {
      "text/html": [
       "<div>\n",
       "<table border=\"1\" class=\"dataframe\">\n",
       "  <thead>\n",
       "    <tr style=\"text-align: right;\">\n",
       "      <th></th>\n",
       "      <th>0</th>\n",
       "      <th>1</th>\n",
       "      <th>2</th>\n",
       "      <th>3</th>\n",
       "      <th>4</th>\n",
       "      <th>5</th>\n",
       "      <th>6</th>\n",
       "    </tr>\n",
       "  </thead>\n",
       "  <tbody>\n",
       "    <tr>\n",
       "      <th>0</th>\n",
       "      <td>1</td>\n",
       "      <td>15.50</td>\n",
       "      <td>58.42</td>\n",
       "      <td>21.00</td>\n",
       "      <td>12.00</td>\n",
       "      <td>16.00</td>\n",
       "      <td>12.00</td>\n",
       "    </tr>\n",
       "    <tr>\n",
       "      <th>1</th>\n",
       "      <td>1</td>\n",
       "      <td>14.50</td>\n",
       "      <td>55.88</td>\n",
       "      <td>19.00</td>\n",
       "      <td>10.00</td>\n",
       "      <td>13.00</td>\n",
       "      <td>12.00</td>\n",
       "    </tr>\n",
       "    <tr>\n",
       "      <th>2</th>\n",
       "      <td>1</td>\n",
       "      <td>15.50</td>\n",
       "      <td>58.42</td>\n",
       "      <td>20.00</td>\n",
       "      <td>13.50</td>\n",
       "      <td>15.00</td>\n",
       "      <td>12.00</td>\n",
       "    </tr>\n",
       "    <tr>\n",
       "      <th>3</th>\n",
       "      <td>1</td>\n",
       "      <td>14.50</td>\n",
       "      <td>58.42</td>\n",
       "      <td>20.00</td>\n",
       "      <td>13.00</td>\n",
       "      <td>15.50</td>\n",
       "      <td>12.00</td>\n",
       "    </tr>\n",
       "    <tr>\n",
       "      <th>4</th>\n",
       "      <td>1</td>\n",
       "      <td>14.00</td>\n",
       "      <td>60.96</td>\n",
       "      <td>21.00</td>\n",
       "      <td>12.00</td>\n",
       "      <td>14.00</td>\n",
       "      <td>13.00</td>\n",
       "    </tr>\n",
       "  </tbody>\n",
       "</table>\n",
       "</div>"
      ],
      "text/plain": [
       "   0      1      2      3      4      5      6\n",
       "0  1  15.50  58.42  21.00  12.00  16.00  12.00\n",
       "1  1  14.50  55.88  19.00  10.00  13.00  12.00\n",
       "2  1  15.50  58.42  20.00  13.50  15.00  12.00\n",
       "3  1  14.50  58.42  20.00  13.00  15.50  12.00\n",
       "4  1  14.00  60.96  21.00  12.00  14.00  13.00"
      ]
     },
     "execution_count": 5,
     "metadata": {},
     "output_type": "execute_result"
    }
   ],
   "source": [
    "import pandas as pd    \n",
    "\n",
    "with open('T8_3_FOOTBALL.dat','r') as f:\n",
    "    next(f) # skip first row\n",
    "    df = pd.DataFrame(l.rstrip().split() for l in f)\n",
    "\n",
    "df.head()"
   ]
  },
  {
   "cell_type": "code",
   "execution_count": 95,
   "metadata": {
    "collapsed": false
   },
   "outputs": [
    {
     "name": "stdout",
     "output_type": "stream",
     "text": [
      "Mean Vector class 1: [ 15.25862069  58.99862069  20.12931034  13.10344828  14.75862069\n",
      "  12.31034483]\n",
      "\n",
      "Mean Vector class 2: [ 15.42        57.37966667  19.80333333  10.08        13.45333333\n",
      "  11.94333333]\n",
      "\n",
      "Mean Vector class 3: [ 15.58        57.77        19.81        10.94666667  13.69666667\n",
      "  11.80333333]\n",
      "\n"
     ]
    }
   ],
   "source": [
    "X = df.iloc[0:, 1:].values\n",
    "y = df.iloc[0:, 0].values\n",
    "X = X.astype(float)\n",
    "y = y.astype(int)#.fillna(0.0) for numpy np.nan_to_num(x)\n",
    "\n",
    "mean_vectors = []\n",
    "for cl in range(1,4):\n",
    "    mean_vectors.append(np.mean(X[y==cl], axis=0))\n",
    "    print('Mean Vector class %s: %s\\n' %(cl, mean_vectors[cl-1]))"
   ]
  },
  {
   "cell_type": "markdown",
   "metadata": {},
   "source": [
    "# Within-class scatter matrix $S_W$"
   ]
  },
  {
   "cell_type": "code",
   "execution_count": 102,
   "metadata": {
    "collapsed": false
   },
   "outputs": [
    {
     "name": "stdout",
     "output_type": "stream",
     "text": [
      "within-class Scatter Matrix:\n",
      "\n",
      "[[  3.42663448e+01   4.71385448e+01   1.26691724e+01   6.26413793e+00\n",
      "    9.54634483e+00   1.76084138e+01]\n",
      " [  4.71385448e+01   2.71711641e+02   8.76132057e+01   5.57069379e+01\n",
      "    2.82298782e+01   4.16018471e+01]\n",
      " [  1.26691724e+01   8.76132057e+01   4.71142529e+01   6.31506897e+00\n",
      "    1.07258391e+01   1.30458736e+01]\n",
      " [  6.26413793e+00   5.57069379e+01   6.31506897e+00   1.06872322e+02\n",
      "    2.69408046e+01   2.93029885e+00]\n",
      " [  9.54634483e+00   2.82298782e+01   1.07258391e+01   2.69408046e+01\n",
      "    5.32146782e+01  -1.66586207e-01]\n",
      " [  1.76084138e+01   4.16018471e+01   1.30458736e+01   2.93029885e+00\n",
      "   -1.66586207e-01   3.10102299e+01]]\n"
     ]
    }
   ],
   "source": [
    "S_W = np.zeros((6,6))\n",
    "for cl,mv in zip(range(1,4), mean_vectors):\n",
    "    class_sc_mat = np.zeros((6,6))                  # scatter matrix for every class\n",
    "    for row in X[y == cl]:\n",
    "        row, mv = row.reshape(6,1), mv.reshape(6,1) # make column vectors\n",
    "        class_sc_mat += (row-mv).dot((row-mv).T)\n",
    "    S_W += class_sc_mat                             # sum class scatter matrices\n",
    "print('within-class Scatter Matrix:\\n')\n",
    "print(S_W)"
   ]
  },
  {
   "cell_type": "markdown",
   "metadata": {
    "collapsed": false
   },
   "source": [
    "# Performing the between class matrix"
   ]
  },
  {
   "cell_type": "code",
   "execution_count": 101,
   "metadata": {
    "collapsed": false
   },
   "outputs": [
    {
     "name": "stdout",
     "output_type": "stream",
     "text": [
      "between-class Scatter Matrix:\n",
      "\n",
      "[[   1.52309337   -5.78219651   -1.50658814  -10.14301434   -5.00162573\n",
      "    -2.39830143]\n",
      " [  -5.78219651   41.91772255    9.02009201   77.17236544   34.371796\n",
      "    11.34488321]\n",
      " [  -1.50658814    9.02009201    2.03585949   16.4247625     7.49045305\n",
      "     2.74260958]\n",
      " [ -10.14301434   77.17236544   16.4247625   142.42543097   63.0997572\n",
      "    20.30947643]\n",
      " [  -5.00162573   34.371796      7.49045305   63.0997572    28.27768139\n",
      "     9.60164239]\n",
      " [  -2.39830143   11.34488321    2.74260958   20.30947643    9.60164239\n",
      "     4.02774764]]\n"
     ]
    }
   ],
   "source": [
    "overall_mean = np.mean(X, axis=0)\n",
    "\n",
    "S_B = np.zeros((6,6))\n",
    "for i,mean_vec in enumerate(mean_vectors):  \n",
    "    n = X[y==i+1,:].shape[0]\n",
    "    mean_vec = mean_vec.reshape(6,1) # make column vector\n",
    "    overall_mean = overall_mean.reshape(6,1) # make column vector\n",
    "    S_B += n * (mean_vec - overall_mean).dot((mean_vec - overall_mean).T)\n",
    "    \n",
    "print('between-class Scatter Matrix:\\n')\n",
    "print(S_B)"
   ]
  },
  {
   "cell_type": "markdown",
   "metadata": {},
   "source": [
    "# Step 3: Solving the generalized eigenvalue problem for the matrix $S^{-1}_wS_B$"
   ]
  },
  {
   "cell_type": "code",
   "execution_count": 103,
   "metadata": {
    "collapsed": false
   },
   "outputs": [
    {
     "name": "stdout",
     "output_type": "stream",
     "text": [
      "\n",
      "Eigenvector 1: \n",
      "[[ 0.59880592]\n",
      " [ 0.00580903]\n",
      " [-0.01317185]\n",
      " [-0.43912831]\n",
      " [-0.34348593]\n",
      " [-0.57481124]]\n",
      "Eigenvalue 1: 1.89e+00\n",
      "\n",
      "Eigenvector 2: \n",
      "[[  6.44845828e-01]\n",
      " [ -1.49607402e-05]\n",
      " [ -1.33481196e-02]\n",
      " [  2.44934278e-01]\n",
      " [ -1.77133338e-01]\n",
      " [ -7.01873683e-01]]\n",
      "Eigenvalue 2: 1.16e-01\n",
      "\n",
      "Eigenvector 3: \n",
      "[[ 0.63085315]\n",
      " [ 0.0912221 ]\n",
      " [ 0.14155981]\n",
      " [ 0.02178641]\n",
      " [-0.29220822]\n",
      " [ 0.60903442]]\n",
      "Eigenvalue 3: 1.76e-17\n",
      "\n",
      "Eigenvector 4: \n",
      "[[ 0.63085315]\n",
      " [ 0.0912221 ]\n",
      " [ 0.14155981]\n",
      " [ 0.02178641]\n",
      " [-0.29220822]\n",
      " [ 0.60903442]]\n",
      "Eigenvalue 4: 1.76e-17\n",
      "\n",
      "Eigenvector 5: \n",
      "[[ 0.55582606]\n",
      " [-0.06784434]\n",
      " [-0.25597624]\n",
      " [ 0.10639339]\n",
      " [-0.22625727]\n",
      " [ 0.69925304]]\n",
      "Eigenvalue 5: -1.21e-16\n",
      "\n",
      "Eigenvector 6: \n",
      "[[ 0.55582606]\n",
      " [-0.06784434]\n",
      " [-0.25597624]\n",
      " [ 0.10639339]\n",
      " [-0.22625727]\n",
      " [ 0.69925304]]\n",
      "Eigenvalue 6: -1.21e-16\n"
     ]
    }
   ],
   "source": [
    "eig_vals, eig_vecs = np.linalg.eig(np.linalg.inv(S_W).dot(S_B))\n",
    "\n",
    "for i in range(len(eig_vals)):\n",
    "    eigvec_sc = eig_vecs[:,i].reshape(6,1)   \n",
    "    print('\\nEigenvector {}: \\n{}'.format(i+1, eigvec_sc.real))\n",
    "    print('Eigenvalue {:}: {:.2e}'.format(i+1, eig_vals[i].real))"
   ]
  },
  {
   "cell_type": "code",
   "execution_count": 104,
   "metadata": {
    "collapsed": false
   },
   "outputs": [
    {
     "name": "stdout",
     "output_type": "stream",
     "text": [
      "Eigenvalues in decreasing order:\n",
      "\n",
      "1.88822754152\n",
      "0.115527409358\n",
      "1.34547023678e-16\n",
      "1.34547023678e-16\n",
      "9.92037983598e-17\n",
      "9.92037983598e-17\n"
     ]
    }
   ],
   "source": [
    "# Make a list of (eigenvalue, eigenvector) tuples\n",
    "eig_pairs = [(np.abs(eig_vals[i]), eig_vecs[:,i]) for i in range(len(eig_vals))]\n",
    "\n",
    "# Sort the (eigenvalue, eigenvector) tuples from high to low\n",
    "eig_pairs = sorted(eig_pairs, key=lambda k: k[0], reverse=True)\n",
    "\n",
    "# Visually confirm that the list is correctly sorted by decreasing eigenvalues\n",
    "\n",
    "print('Eigenvalues in decreasing order:\\n')\n",
    "for i in eig_pairs:\n",
    "    print(i[0])"
   ]
  },
  {
   "cell_type": "code",
   "execution_count": 105,
   "metadata": {
    "collapsed": false
   },
   "outputs": [
    {
     "name": "stdout",
     "output_type": "stream",
     "text": [
      "Variance explained:\n",
      "\n",
      "eigenvalue 1: 94.23%\n",
      "eigenvalue 2: 5.77%\n",
      "eigenvalue 3: 0.00%\n",
      "eigenvalue 4: 0.00%\n",
      "eigenvalue 5: 0.00%\n",
      "eigenvalue 6: 0.00%\n"
     ]
    }
   ],
   "source": [
    "print('Variance explained:\\n')\n",
    "eigv_sum = sum(eig_vals)\n",
    "for i,j in enumerate(eig_pairs):\n",
    "    print('eigenvalue {0:}: {1:.2%}'.format(i+1, (j[0]/eigv_sum).real))\n"
   ]
  },
  {
   "cell_type": "code",
   "execution_count": 110,
   "metadata": {
    "collapsed": false
   },
   "outputs": [
    {
     "name": "stdout",
     "output_type": "stream",
     "text": [
      "Matrix W:\n",
      "\n"
     ]
    },
    {
     "data": {
      "text/plain": [
       "array([[  5.98805920e-01,   6.44845828e-01],\n",
       "       [  5.80902547e-03,  -1.49607402e-05],\n",
       "       [ -1.31718505e-02,  -1.33481196e-02],\n",
       "       [ -4.39128315e-01,   2.44934278e-01],\n",
       "       [ -3.43485932e-01,  -1.77133338e-01],\n",
       "       [ -5.74811243e-01,  -7.01873683e-01]])"
      ]
     },
     "execution_count": 110,
     "metadata": {},
     "output_type": "execute_result"
    }
   ],
   "source": [
    "W = np.hstack((eig_pairs[0][1].reshape(6,1), eig_pairs[1][1].reshape(6,1)))\n",
    "print('Matrix W:\\n')\n",
    "W.real"
   ]
  },
  {
   "cell_type": "code",
   "execution_count": 115,
   "metadata": {
    "collapsed": false
   },
   "outputs": [],
   "source": [
    "X_lda = X.dot(W)\n",
    "assert X_lda.shape == (89,2), \"The matrix is not 89x2 dimensional.\"\n",
    "label_dict = {1: 'Groupe 1', 2: 'Groupe 2', 3:'Groupe 3'}"
   ]
  },
  {
   "cell_type": "code",
   "execution_count": 133,
   "metadata": {
    "collapsed": false
   },
   "outputs": [
    {
     "data": {
      "image/png": "[encoded data removed]",
      "text/plain": [
       "<matplotlib.figure.Figure at 0x11965d150>"
      ]
     },
     "metadata": {},
     "output_type": "display_data"
    }
   ],
   "source": [
    "from matplotlib import pyplot as plt\n",
    "\n",
    "def plot_step_lda():\n",
    "#   colors = np.random.rand(100)\n",
    "#    'navy', 'turquoise', 'darkorange'\n",
    "    ax = plt.subplot(111)\n",
    "    for label,marker,color in zip(\n",
    "        range(1,6),('^', 's', 'o'),('blue', 'red', 'green')):\n",
    "\n",
    "        plt.scatter(x=X_lda[:,0].real[y == label],\n",
    "                y=X_lda[:,1].real[y == label],\n",
    "                marker=marker,\n",
    "                color=color,\n",
    "                alpha=0.5,\n",
    "                label=label_dict[label]\n",
    "                )\n",
    "\n",
    "    plt.xlabel('LD1')\n",
    "    plt.ylabel('LD2')\n",
    "\n",
    "    leg = plt.legend(loc='upper right', fancybox=True)\n",
    "    leg.get_frame().set_alpha(0.5)\n",
    "    plt.title('LDA: Projection des joueurs de Football sur les 2 vecteurs discrminants')\n",
    "    \n",
    "    # hide axis ticks\n",
    "    plt.tick_params(axis=\"both\", which=\"both\", bottom=\"off\", top=\"off\",  \n",
    "            labelbottom=\"on\", left=\"off\", right=\"off\", labelleft=\"on\")\n",
    "\n",
    "    # remove axis spines\n",
    "    ax.spines[\"top\"].set_visible(False)  \n",
    "    ax.spines[\"right\"].set_visible(False) \n",
    "    ax.spines[\"bottom\"].set_visible(False) \n",
    "    ax.spines[\"left\"].set_visible(False)    \n",
    " \n",
    "    plt.grid()\n",
    "    plt.tight_layout\n",
    "    plt.show()\n",
    "    \n",
    "plot_step_lda()"
   ]
  },
  {
   "cell_type": "markdown",
   "metadata": {
    "collapsed": false
   },
   "source": [
    "We definetly see the group 1 is more distinguished group, the discrminant function performs well in diferenciating the group 1. However the others groups still mitigated. We could consider then others way to distinguish them, we could try a non-parametric methods such that Clustering methods."
   ]
  },
  {
   "cell_type": "code",
   "execution_count": null,
   "metadata": {
    "collapsed": true
   },
   "outputs": [],
   "source": []
  }
 ],
 "metadata": {
  "kernelspec": {
   "display_name": "Python 2",
   "language": "python",
   "name": "python2"
  },
  "language_info": {
   "codemirror_mode": {
    "name": "ipython",
    "version": 2
   },
   "file_extension": ".py",
   "mimetype": "text/x-python",
   "name": "python",
   "nbconvert_exporter": "python",
   "pygments_lexer": "ipython2",
   "version": "2.7.12"
  }
 },
 "nbformat": 4,
 "nbformat_minor": 0
}
